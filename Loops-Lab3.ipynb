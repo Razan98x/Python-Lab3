{
 "cells": [
  {
   "cell_type": "code",
   "execution_count": null,
   "id": "e84f6731",
   "metadata": {},
   "outputs": [],
   "source": []
  },
  {
   "cell_type": "code",
   "execution_count": null,
   "id": "94ae49f7",
   "metadata": {},
   "outputs": [
    {
     "name": "stdout",
     "output_type": "stream",
     "text": [
      "what is the product of 7 * 24 ?168\n",
      "Your Answer is wrong try again..\n"
     ]
    }
   ],
   "source": [
    "x = 7 * 24\n",
    "while True:\n",
    "    userr=input(\"what is the product of 7 * 24 ?\")\n",
    "    if intuserr == x:\n",
    "        print( \"You answered this Question correctly\")\n",
    "        break\n",
    "    else:\n",
    "        print( \"Your Answer is wrong try again..\")"
   ]
  },
  {
   "cell_type": "code",
   "execution_count": null,
   "id": "7b8c6fe4",
   "metadata": {},
   "outputs": [],
   "source": [
    "x = 7 * 24\n",
    "while True:\n",
    "    userr=input(\"what is the product of 7 * 24 ?\")\n",
    "    int(userr)               "
   ]
  }
 ],
 "metadata": {
  "kernelspec": {
   "display_name": "Python 3 (ipykernel)",
   "language": "python",
   "name": "python3"
  },
  "language_info": {
   "codemirror_mode": {
    "name": "ipython",
    "version": 3
   },
   "file_extension": ".py",
   "mimetype": "text/x-python",
   "name": "python",
   "nbconvert_exporter": "python",
   "pygments_lexer": "ipython3",
   "version": "3.9.13"
  }
 },
 "nbformat": 4,
 "nbformat_minor": 5
}
